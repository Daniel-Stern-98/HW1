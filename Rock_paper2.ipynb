{
 "cells": [
  {
   "cell_type": "code",
   "execution_count": 1,
   "metadata": {},
   "outputs": [
    {
     "name": "stdout",
     "output_type": "stream",
     "text": [
      "Welcome to the Game of Rock,Paper and Scissors\n",
      "Ready to play?Y or NY\n",
      "Rock,Paper, Scissors?Rock\n",
      "Tie!\n",
      "Ready to play?Y or NN\n",
      "Thanks for Playing\n"
     ]
    }
   ],
   "source": [
    "#from IPython.display import clear_output\n",
    "\n",
    "\n",
    "#def play():return input('Do you want to play ? Enter Yes or No: ').lower().startswith('y')\n",
    "\n",
    "\n",
    "\n",
    "from random import randint\n",
    "\n",
    "print(\"Welcome to the Game of Rock,Paper and Scissors\")\n",
    "\n",
    "#create a list of play options\n",
    "play = [\"Rock\", \"Paper\", \"Scissors\"]\n",
    "\n",
    "#assign a random play to the computer\n",
    "computer = play[randint(0,2)]\n",
    "\n",
    "#set player to False\n",
    "player = False\n",
    "\n",
    "\n",
    "while player == False:\n",
    " \n",
    "        \n",
    "#set player to True\n",
    "    player = input(\"Ready to play?Y or N\")\n",
    "    if player==\"Y\":\n",
    "        player=input(\"Rock,Paper, Scissors?\")\n",
    "    elif player==\"N\":\n",
    "        print(\"Thanks for Playing\")\n",
    "        break\n",
    "    if player == computer:\n",
    "        print(\"Tie!\")\n",
    "    elif player == \"Rock\":\n",
    "        if computer == \"Paper\":\n",
    "            print(\"You lose!\", computer, \"covers\", player)\n",
    "        else:\n",
    "            print(\"You win!\", player, \"smashes\", computer)\n",
    "    elif player == \"Paper\":\n",
    "        if computer == \"Scissors\":\n",
    "            print(\"You lose!\", computer, \"cut\", player)\n",
    "        else:\n",
    "            print(\"You win!\", player, \"covers\", computer)\n",
    "    elif player == \"Scissors\":\n",
    "        if computer == \"Rock\":\n",
    "            print(\"You lose...\", computer, \"smashes\", player)\n",
    "        else:\n",
    "            print(\"You win!\", player, \"cut\", computer)\n",
    "    \n",
    "    else:\n",
    "        print(\"That's not a valid play. Check your spelling!\")\n",
    " \n",
    "        \n",
    "    #player was set to True, but we want it to be False so the loop continues\n",
    "    player = False\n",
    "    computer = play[randint(0,2)]"
   ]
  },
  {
   "cell_type": "code",
   "execution_count": null,
   "metadata": {},
   "outputs": [],
   "source": []
  },
  {
   "cell_type": "code",
   "execution_count": null,
   "metadata": {},
   "outputs": [],
   "source": []
  }
 ],
 "metadata": {
  "kernelspec": {
   "display_name": "Python 3",
   "language": "python",
   "name": "python3"
  },
  "language_info": {
   "codemirror_mode": {
    "name": "ipython",
    "version": 3
   },
   "file_extension": ".py",
   "mimetype": "text/x-python",
   "name": "python",
   "nbconvert_exporter": "python",
   "pygments_lexer": "ipython3",
   "version": "3.7.6"
  }
 },
 "nbformat": 4,
 "nbformat_minor": 4
}
