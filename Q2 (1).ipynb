{
 "cells": [
  {
   "cell_type": "raw",
   "metadata": {},
   "source": [
    "The file FloridaVoters.html contains a Web Table of republican and democratic voters in various counties in Florida. Write code that reads in this file\n",
    "as a standard text file and prints out the counties, along with the number\n",
    "of republican and democratic voters in those counties, sorted by the number\n",
    "of democratic voters. The output should look like this:"
   ]
  },
  {
   "cell_type": "raw",
   "metadata": {},
   "source": [
    "LAFAYETTE 1373 2672\n",
    "GLADES 2190 3110\n",
    "LIBERTY 720 3372"
   ]
  },
  {
   "cell_type": "markdown",
   "metadata": {},
   "source": [
    "Note that the numbers in the HTML file contain commas, but we got rid\n",
    "of them in order to do the sorting. Also, while we should technically ignore\n",
    "the data for Total, let’s not worry about it here."
   ]
  },
  {
   "cell_type": "markdown",
   "metadata": {},
   "source": [
    "Hint: You may want to read in the file and create a list of tuples of\n",
    "the form [(’ALACHUA’, 47329, 77996), (’BAKER’, 6963, 5813), ...]\n",
    "and then do the sorting and printing."
   ]
  },
  {
   "cell_type": "code",
   "execution_count": 1,
   "metadata": {},
   "outputs": [
    {
     "ename": "FileNotFoundError",
     "evalue": "[Errno 2] No such file or directory: 'C:/Users/lucye/Downloads/FloridaVoters.html'",
     "output_type": "error",
     "traceback": [
      "\u001b[1;31m---------------------------------------------------------------------------\u001b[0m",
      "\u001b[1;31mFileNotFoundError\u001b[0m                         Traceback (most recent call last)",
      "\u001b[1;32m<ipython-input-1-349d2a16b31f>\u001b[0m in \u001b[0;36m<module>\u001b[1;34m\u001b[0m\n\u001b[0;32m      1\u001b[0m \u001b[1;31m#reads in the html file\u001b[0m\u001b[1;33m\u001b[0m\u001b[1;33m\u001b[0m\u001b[1;33m\u001b[0m\u001b[0m\n\u001b[1;32m----> 2\u001b[1;33m \u001b[1;32mwith\u001b[0m \u001b[0mopen\u001b[0m\u001b[1;33m(\u001b[0m\u001b[1;34m'C:/Users/lucye/Downloads/FloridaVoters.html'\u001b[0m\u001b[1;33m,\u001b[0m \u001b[1;34m'r'\u001b[0m\u001b[1;33m)\u001b[0m \u001b[1;32mas\u001b[0m \u001b[0mf\u001b[0m\u001b[1;33m:\u001b[0m\u001b[1;33m\u001b[0m\u001b[1;33m\u001b[0m\u001b[0m\n\u001b[0m\u001b[0;32m      3\u001b[0m     \u001b[0mhtml_string\u001b[0m \u001b[1;33m=\u001b[0m \u001b[0mf\u001b[0m\u001b[1;33m.\u001b[0m\u001b[0mread\u001b[0m\u001b[1;33m(\u001b[0m\u001b[1;33m)\u001b[0m\u001b[1;33m\u001b[0m\u001b[1;33m\u001b[0m\u001b[0m\n\u001b[0;32m      4\u001b[0m \u001b[1;33m\u001b[0m\u001b[0m\n\u001b[0;32m      5\u001b[0m \u001b[1;31m#creates a textfile\u001b[0m\u001b[1;33m\u001b[0m\u001b[1;33m\u001b[0m\u001b[1;33m\u001b[0m\u001b[0m\n",
      "\u001b[1;31mFileNotFoundError\u001b[0m: [Errno 2] No such file or directory: 'C:/Users/lucye/Downloads/FloridaVoters.html'"
     ]
    }
   ],
   "source": [
    "#reads in the html file\n",
    "with open('C:/Users/lucye/Downloads/FloridaVoters.html', 'r') as f:\n",
    "    html_string = f.read()\n",
    "    \n",
    "#creates a textfile\n",
    "txtfile = open('FloridaVoters.txt','w')\n",
    "#writes the html file to the textfile\n",
    "txtfile.write(html_string)\n",
    "txtfile.close()\n",
    "#reads the file\n",
    "\n",
    "file_reader = open('FloridaVoters.txt','r')"
   ]
  },
  {
   "cell_type": "code",
   "execution_count": 52,
   "metadata": {},
   "outputs": [],
   "source": [
    "#needs something to get rid of all the commas, <th>, </th>, </tr>, </td> <td>\n",
    "#need to read from certain part of the file\n",
    "list_florida = []\n",
    "#lines 671to 1204\n",
    "lines_to_read = [*range(671,1214,1)]\n",
    "#words to delete:\n",
    "delete_list = ['<td>', '</td>','</tr', '<tr>', ',', '>',' ']\n",
    "#clean file, removed of everything\n",
    "out_file = open('FloridaVotersClean.txt','w')\n",
    "\n",
    "for position, line in enumerate(file_reader):\n",
    "    if position in lines_to_read:\n",
    "        #removing specific phrases from file\n",
    "            for word in delete_list:\n",
    "                if word in line:\n",
    "                    line = line.replace(word,\"\")\n",
    "            out_file.write(line)\n",
    "out_file.close()"
   ]
  },
  {
   "cell_type": "code",
   "execution_count": 53,
   "metadata": {},
   "outputs": [],
   "source": [
    "#time to read the file\n",
    "#keeps track of which line we are on\n",
    "file_reader_clean = open('FloridaVotersClean.txt','r')\n",
    "line_tracker = file_reader_clean.readline().rstrip('\\n')\n",
    "\n",
    "list_florida = []\n",
    "\n",
    "while line_tracker != '':\n",
    "    #county is the first line\n",
    "    county = line_tracker\n",
    "    #reads the next line\n",
    "    rep = int(file_reader_clean.readline().rstrip('\\n'))\n",
    "    dem = int(file_reader_clean.readline().rstrip('\\n'))\n",
    "    minor = int(file_reader_clean.readline().rstrip('\\n'))\n",
    "    none = int(file_reader_clean.readline().rstrip('\\n'))\n",
    "    total = int(file_reader_clean.readline().rstrip('\\n'))\n",
    "    #creates a temporary tuple to hold these values\n",
    "    temp_tuple = (county, rep, dem, minor, none, total)\n",
    "    #appends it to the empty list\n",
    "    list_florida.append(temp_tuple)\n",
    "    #skip 2 lines\n",
    "    line_tracker = file_reader_clean.readline()\n",
    "    line_tracker = file_reader_clean.readline()\n",
    "    \n",
    "    #moves it to the next line to read\n",
    "    line_tracker = file_reader_clean.readline().rstrip('\\n')\n",
    "\n",
    "file_reader_clean.close()"
   ]
  },
  {
   "cell_type": "code",
   "execution_count": 54,
   "metadata": {},
   "outputs": [
    {
     "name": "stdout",
     "output_type": "stream",
     "text": [
      "LAFAYETTE   1373   2672\n",
      "GLADES   2190   3110\n",
      "LIBERTY   720   3372\n",
      "UNION   2752   3579\n",
      "GILCHRIST   5789   3652\n",
      "FRANKLIN   2234   4319\n",
      "HOLMES   5282   4434\n",
      "GULF   4234   4521\n",
      "HARDEE   4859   4702\n",
      "HAMILTON   2154   4796\n",
      "DIXIE   3314   4839\n",
      "CALHOUN   2201   5324\n",
      "WASHINGTON   7101   5687\n",
      "JEFFERSON   2636   5802\n",
      "BAKER   6963   5813\n",
      "BRADFORD   6878   6533\n",
      "TAYLOR   3950   6915\n",
      "MADISON   2992   7158\n",
      "DESOTO   4870   7181\n",
      "OKEECHOBEE   7755   7756\n",
      "HENDRY   5862   7999\n",
      "WAKULLA   7374   8889\n",
      "LEVY   11665   9509\n",
      "WALTON   25609   10013\n",
      "SUWANNEE   10745   11126\n",
      "NASSAU   32958   14013\n",
      "COLUMBIA   15790   14797\n",
      "JACKSON   9626   15706\n",
      "MONROE   20602   17614\n",
      "HIGHLANDS   27100   19997\n",
      "PUTNAM   17067   20606\n",
      "GADSDEN   4372   22161\n",
      "SUMTER   47158   22977\n",
      "FLAGLER   30047   24734\n",
      "OKALOOSA   75154   25172\n",
      "SANTAROSA   73627   26114\n",
      "MARTIN   53800   27358\n",
      "INDIANRIVER   47794   28204\n",
      "CITRUS   46373   30440\n",
      "BAY   57456   30733\n",
      "CLAY   76584   31285\n",
      "CHARLOTTE   54421   35602\n",
      "ST.JOHNS   88385   39531\n",
      "HERNANDO   51254   42499\n",
      "COLLIER   100167   45511\n",
      "LAKE   93604   67237\n",
      "MANATEE   96063   67926\n",
      "ESCAMBIA   90265   70180\n",
      "OSCEOLA   44594   75657\n",
      "ST.LUCIE   59626   76163\n",
      "MARION   97306   76268\n",
      "ALACHUA   47329   77996\n",
      "SARASOTA   125872   89711\n",
      "SEMINOLE   107833   91686\n",
      "LEON   54554   103140\n",
      "PASCO   125305   104324\n",
      "LEE   180718   114633\n",
      "VOLUSIA   121402   124136\n",
      "BREVARD   167129   127435\n",
      "POLK   140619   143799\n",
      "PINELLAS   223077   221968\n",
      "DUVAL   210195   229501\n",
      "ORANGE   206174   303458\n",
      "HILLSBOROUGH   257436   314265\n",
      "PALMBEACH   245452   367236\n",
      "MIAMI-DADE   362161   539367\n",
      "BROWARD   249762   566185\n",
      "Total   4377713   4637026\n"
     ]
    }
   ],
   "source": [
    "#sort the list\n",
    "#need a get function\n",
    "def getDemVotes(list_item):\n",
    "    return list_item[2]\n",
    "\n",
    "#sort the list\n",
    "sort_list = sorted(list_florida, key=getDemVotes)\n",
    "\n",
    "#print out the values\n",
    "for i in sort_list:\n",
    "    print(i[0], ' ', i[1], ' ', i[2])"
   ]
  },
  {
   "cell_type": "code",
   "execution_count": null,
   "metadata": {},
   "outputs": [],
   "source": []
  }
 ],
 "metadata": {
  "kernelspec": {
   "display_name": "Python 3",
   "language": "python",
   "name": "python3"
  },
  "language_info": {
   "codemirror_mode": {
    "name": "ipython",
    "version": 3
   },
   "file_extension": ".py",
   "mimetype": "text/x-python",
   "name": "python",
   "nbconvert_exporter": "python",
   "pygments_lexer": "ipython3",
   "version": "3.7.6"
  }
 },
 "nbformat": 4,
 "nbformat_minor": 4
}
